{
 "cells": [
  {
   "cell_type": "code",
   "execution_count": null,
   "id": "1c63c6b7-81f7-4fee-b2fa-4f59bbc082d0",
   "metadata": {},
   "outputs": [],
   "source": [
    "import pandas as pd\n",
    "import matplotlib\n",
    "import matplotlib.pyplot as plt\n",
    "import seaborn as sns\n",
    "\n",
    "from myapi import import_redcap\n",
    "from tools import adjust_for_vas, get_daily_mean\n",
    "\n",
    "pd.set_option('display.max_rows', 100) #set max of display rows when printing dataframe\n",
    "\n",
    "%matplotlib inline"
   ]
  },
  {
   "cell_type": "code",
   "execution_count": null,
   "id": "8ea7f2ee-03c3-4842-9eb3-34e31dfc09b8",
   "metadata": {},
   "outputs": [],
   "source": [
    "patient_id = 'PR05'\n",
    "stage = '3'"
   ]
  },
  {
   "cell_type": "code",
   "execution_count": null,
   "id": "a1423b6e-a7cf-4592-8d7e-bb36b2e5ddbf",
   "metadata": {},
   "outputs": [],
   "source": [
    "raw_df = import_redcap(patient_id, stage)\n",
    "adj_df = adjust_for_vas(raw_df)\n",
    "dailymean_df = get_daily_mean(adj_df)"
   ]
  },
  {
   "cell_type": "code",
   "execution_count": null,
   "id": "0844c9c4-b18b-432d-9f9d-203759a8839e",
   "metadata": {},
   "outputs": [],
   "source": [
    "#Main surveys: daily mean\n",
    "plt.figure(figsize=(8, 3), dpi=300, facecolor='white')\n",
    "#plt.title(f'{patient_id}: daily mean scores between {start} and {stop}', x=0.5, y=1, fontsize=6)\n",
    "\n",
    "x_labs = [x.strftime(\"%m/%d\") for x in dailymean_df.start_local_timestamp]\n",
    "x_ticks = dailymean_df.index.values\n",
    "y_ticks = list(range(0,101,20))\n",
    "\n",
    "palette = ['red', 'blue', 'dimgray', 'darkorange', 'mediumorchid']\n",
    "surveys = ['vas_depression', 'vas_anxiety', 'vas_energy_reversed', 'hamd_rescaled', 'standford_sleepiness_rescaled']\n",
    "\n",
    "ax = plt.subplot(111)\n",
    "\n",
    "for i in range(len(surveys)):\n",
    "    ax = sns.lineplot(data=dailymean_df,\n",
    "                      x=dailymean_df.index.values,\n",
    "                      y=surveys[i],\n",
    "                      ax=ax,\n",
    "                      color=palette[i],\n",
    "                      linewidth=1,\n",
    "                      marker='.',\n",
    "                      markersize=4,\n",
    "                      markeredgecolor='k',\n",
    "                      markeredgewidth=0.3,\n",
    "                      alpha=0.8)\n",
    "\n",
    "ax.set_xticks(x_ticks, labels=x_labs, fontsize=6, rotation=90)\n",
    "ax.set_yticks(y_ticks, labels=y_ticks, fontsize=7, rotation=0)\n",
    "ax.set_ylabel('Score', fontsize=8)\n",
    "ax.legend(ax.lines[0:len(surveys)], surveys, loc=1, bbox_to_anchor=(1, 1), ncol=len(surveys), fontsize=4)\n",
    "\n",
    "plt.tight_layout()\n",
    "#plt.savefig(pathlib.Path(OUTPUT_DIR, f'{patient_id}_DailyMeanSurveyScores_{start}_{stop}.jpg'))\n",
    "plt.show()"
   ]
  }
 ],
 "metadata": {
  "kernelspec": {
   "display_name": "Python 3 (ipykernel)",
   "language": "python",
   "name": "python3"
  },
  "language_info": {
   "codemirror_mode": {
    "name": "ipython",
    "version": 3
   },
   "file_extension": ".py",
   "mimetype": "text/x-python",
   "name": "python",
   "nbconvert_exporter": "python",
   "pygments_lexer": "ipython3",
   "version": "3.10.13"
  }
 },
 "nbformat": 4,
 "nbformat_minor": 5
}
