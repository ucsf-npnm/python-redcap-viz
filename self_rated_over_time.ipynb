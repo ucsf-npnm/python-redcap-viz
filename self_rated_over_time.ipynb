{
 "cells": [
  {
   "cell_type": "code",
   "execution_count": 1,
   "id": "1c63c6b7-81f7-4fee-b2fa-4f59bbc082d0",
   "metadata": {},
   "outputs": [],
   "source": [
    "import pandas as pd\n",
    "\n",
    "from myapi import import_redcap\n",
    "from tools import adjust_for_vas\n",
    "\n",
    "pd.set_option('display.max_rows', 100) #set max of display rows when printing dataframe"
   ]
  },
  {
   "cell_type": "code",
   "execution_count": 2,
   "id": "8ea7f2ee-03c3-4842-9eb3-34e31dfc09b8",
   "metadata": {},
   "outputs": [],
   "source": [
    "patient_id = 'PR05'\n",
    "stage = '3'"
   ]
  },
  {
   "cell_type": "code",
   "execution_count": 3,
   "id": "a1423b6e-a7cf-4592-8d7e-bb36b2e5ddbf",
   "metadata": {},
   "outputs": [
    {
     "name": "stdout",
     "output_type": "stream",
     "text": [
      "PR05: Stage 3 imported as dataframe\n"
     ]
    }
   ],
   "source": [
    "raw_df = import_redcap(patient_id, stage)"
   ]
  },
  {
   "cell_type": "code",
   "execution_count": 4,
   "id": "aaf80ae7-aad6-4a60-b2ab-c332518b3903",
   "metadata": {},
   "outputs": [
    {
     "name": "stdout",
     "output_type": "stream",
     "text": [
      "vas_energy reversed in new column vas_energy_reversed\n",
      "hamd rescaled in new column hamd_rescaled\n",
      "standford_sleepiness rescaled in new column standford_sleepiness_rescaled\n"
     ]
    }
   ],
   "source": [
    "adj_df = adjust_for_vas(raw_df)"
   ]
  }
 ],
 "metadata": {
  "kernelspec": {
   "display_name": "Python 3 (ipykernel)",
   "language": "python",
   "name": "python3"
  },
  "language_info": {
   "codemirror_mode": {
    "name": "ipython",
    "version": 3
   },
   "file_extension": ".py",
   "mimetype": "text/x-python",
   "name": "python",
   "nbconvert_exporter": "python",
   "pygments_lexer": "ipython3",
   "version": "3.10.13"
  }
 },
 "nbformat": 4,
 "nbformat_minor": 5
}
